{
 "cells": [
  {
   "cell_type": "code",
   "execution_count": 2,
   "metadata": {},
   "outputs": [],
   "source": [
    "\"\"\"\n",
    "ISRUC-SLEEP Dataset https://sleeptight.isr.uc.pt/ISRUC_Sleep/\n",
    "\"\"\"\n",
    "# import pyedflib\n",
    "import numpy as np\n",
    "import os\n",
    "import scipy.io\n",
    "\n",
    "\n",
    "ROOT = \"H:\\\\data\\\\ISRUC\\\\1\""
   ]
  },
  {
   "cell_type": "code",
   "execution_count": 3,
   "metadata": {},
   "outputs": [
    {
     "name": "stdout",
     "output_type": "stream",
     "text": [
      "H:\\data\\ISRUC\\1\\subject1\n"
     ]
    },
    {
     "ename": "FileNotFoundError",
     "evalue": "[Errno 2] No such file or directory: 'H:\\\\data\\\\ISRUC\\\\1\\\\subject1.mat'",
     "output_type": "error",
     "traceback": [
      "\u001b[1;31m---------------------------------------------------------------------------\u001b[0m",
      "\u001b[1;31mFileNotFoundError\u001b[0m                         Traceback (most recent call last)",
      "\u001b[1;32m~\\AppData\\Local\\Continuum\\anaconda3\\lib\\site-packages\\scipy\\io\\matlab\\mio.py\u001b[0m in \u001b[0;36m_open_file\u001b[1;34m(file_like, appendmat, mode)\u001b[0m\n\u001b[0;32m     38\u001b[0m     \u001b[1;32mtry\u001b[0m\u001b[1;33m:\u001b[0m\u001b[1;33m\u001b[0m\u001b[1;33m\u001b[0m\u001b[0m\n\u001b[1;32m---> 39\u001b[1;33m         \u001b[1;32mreturn\u001b[0m \u001b[0mopen\u001b[0m\u001b[1;33m(\u001b[0m\u001b[0mfile_like\u001b[0m\u001b[1;33m,\u001b[0m \u001b[0mmode\u001b[0m\u001b[1;33m)\u001b[0m\u001b[1;33m,\u001b[0m \u001b[1;32mTrue\u001b[0m\u001b[1;33m\u001b[0m\u001b[1;33m\u001b[0m\u001b[0m\n\u001b[0m\u001b[0;32m     40\u001b[0m     \u001b[1;32mexcept\u001b[0m \u001b[0mIOError\u001b[0m\u001b[1;33m:\u001b[0m\u001b[1;33m\u001b[0m\u001b[1;33m\u001b[0m\u001b[0m\n",
      "\u001b[1;31mFileNotFoundError\u001b[0m: [Errno 2] No such file or directory: 'H:\\\\data\\\\ISRUC\\\\1\\\\subject1'",
      "\nDuring handling of the above exception, another exception occurred:\n",
      "\u001b[1;31mFileNotFoundError\u001b[0m                         Traceback (most recent call last)",
      "\u001b[1;32m<ipython-input-3-e5235dfc7c86>\u001b[0m in \u001b[0;36m<module>\u001b[1;34m\u001b[0m\n\u001b[0;32m      2\u001b[0m \u001b[0mprint\u001b[0m\u001b[1;33m(\u001b[0m\u001b[0mfile_name\u001b[0m\u001b[1;33m)\u001b[0m\u001b[1;33m\u001b[0m\u001b[1;33m\u001b[0m\u001b[0m\n\u001b[0;32m      3\u001b[0m \u001b[1;33m\u001b[0m\u001b[0m\n\u001b[1;32m----> 4\u001b[1;33m \u001b[0mmatrix_thing\u001b[0m \u001b[1;33m=\u001b[0m \u001b[0mscipy\u001b[0m\u001b[1;33m.\u001b[0m\u001b[0mio\u001b[0m\u001b[1;33m.\u001b[0m\u001b[0mloadmat\u001b[0m\u001b[1;33m(\u001b[0m\u001b[0mfile_name\u001b[0m\u001b[1;33m)\u001b[0m\u001b[1;33m\u001b[0m\u001b[1;33m\u001b[0m\u001b[0m\n\u001b[0m\u001b[0;32m      5\u001b[0m \u001b[1;33m\u001b[0m\u001b[0m\n\u001b[0;32m      6\u001b[0m \u001b[0mprint\u001b[0m\u001b[1;33m(\u001b[0m\u001b[0mmatrix_thing\u001b[0m\u001b[1;33m)\u001b[0m\u001b[1;33m\u001b[0m\u001b[1;33m\u001b[0m\u001b[0m\n",
      "\u001b[1;32m~\\AppData\\Local\\Continuum\\anaconda3\\lib\\site-packages\\scipy\\io\\matlab\\mio.py\u001b[0m in \u001b[0;36mloadmat\u001b[1;34m(file_name, mdict, appendmat, **kwargs)\u001b[0m\n\u001b[0;32m    214\u001b[0m     \"\"\"\n\u001b[0;32m    215\u001b[0m     \u001b[0mvariable_names\u001b[0m \u001b[1;33m=\u001b[0m \u001b[0mkwargs\u001b[0m\u001b[1;33m.\u001b[0m\u001b[0mpop\u001b[0m\u001b[1;33m(\u001b[0m\u001b[1;34m'variable_names'\u001b[0m\u001b[1;33m,\u001b[0m \u001b[1;32mNone\u001b[0m\u001b[1;33m)\u001b[0m\u001b[1;33m\u001b[0m\u001b[1;33m\u001b[0m\u001b[0m\n\u001b[1;32m--> 216\u001b[1;33m     \u001b[1;32mwith\u001b[0m \u001b[0m_open_file_context\u001b[0m\u001b[1;33m(\u001b[0m\u001b[0mfile_name\u001b[0m\u001b[1;33m,\u001b[0m \u001b[0mappendmat\u001b[0m\u001b[1;33m)\u001b[0m \u001b[1;32mas\u001b[0m \u001b[0mf\u001b[0m\u001b[1;33m:\u001b[0m\u001b[1;33m\u001b[0m\u001b[1;33m\u001b[0m\u001b[0m\n\u001b[0m\u001b[0;32m    217\u001b[0m         \u001b[0mMR\u001b[0m\u001b[1;33m,\u001b[0m \u001b[0m_\u001b[0m \u001b[1;33m=\u001b[0m \u001b[0mmat_reader_factory\u001b[0m\u001b[1;33m(\u001b[0m\u001b[0mf\u001b[0m\u001b[1;33m,\u001b[0m \u001b[1;33m**\u001b[0m\u001b[0mkwargs\u001b[0m\u001b[1;33m)\u001b[0m\u001b[1;33m\u001b[0m\u001b[1;33m\u001b[0m\u001b[0m\n\u001b[0;32m    218\u001b[0m         \u001b[0mmatfile_dict\u001b[0m \u001b[1;33m=\u001b[0m \u001b[0mMR\u001b[0m\u001b[1;33m.\u001b[0m\u001b[0mget_variables\u001b[0m\u001b[1;33m(\u001b[0m\u001b[0mvariable_names\u001b[0m\u001b[1;33m)\u001b[0m\u001b[1;33m\u001b[0m\u001b[1;33m\u001b[0m\u001b[0m\n",
      "\u001b[1;32m~\\AppData\\Local\\Continuum\\anaconda3\\lib\\contextlib.py\u001b[0m in \u001b[0;36m__enter__\u001b[1;34m(self)\u001b[0m\n\u001b[0;32m    110\u001b[0m         \u001b[1;32mdel\u001b[0m \u001b[0mself\u001b[0m\u001b[1;33m.\u001b[0m\u001b[0margs\u001b[0m\u001b[1;33m,\u001b[0m \u001b[0mself\u001b[0m\u001b[1;33m.\u001b[0m\u001b[0mkwds\u001b[0m\u001b[1;33m,\u001b[0m \u001b[0mself\u001b[0m\u001b[1;33m.\u001b[0m\u001b[0mfunc\u001b[0m\u001b[1;33m\u001b[0m\u001b[1;33m\u001b[0m\u001b[0m\n\u001b[0;32m    111\u001b[0m         \u001b[1;32mtry\u001b[0m\u001b[1;33m:\u001b[0m\u001b[1;33m\u001b[0m\u001b[1;33m\u001b[0m\u001b[0m\n\u001b[1;32m--> 112\u001b[1;33m             \u001b[1;32mreturn\u001b[0m \u001b[0mnext\u001b[0m\u001b[1;33m(\u001b[0m\u001b[0mself\u001b[0m\u001b[1;33m.\u001b[0m\u001b[0mgen\u001b[0m\u001b[1;33m)\u001b[0m\u001b[1;33m\u001b[0m\u001b[1;33m\u001b[0m\u001b[0m\n\u001b[0m\u001b[0;32m    113\u001b[0m         \u001b[1;32mexcept\u001b[0m \u001b[0mStopIteration\u001b[0m\u001b[1;33m:\u001b[0m\u001b[1;33m\u001b[0m\u001b[1;33m\u001b[0m\u001b[0m\n\u001b[0;32m    114\u001b[0m             \u001b[1;32mraise\u001b[0m \u001b[0mRuntimeError\u001b[0m\u001b[1;33m(\u001b[0m\u001b[1;34m\"generator didn't yield\"\u001b[0m\u001b[1;33m)\u001b[0m \u001b[1;32mfrom\u001b[0m \u001b[1;32mNone\u001b[0m\u001b[1;33m\u001b[0m\u001b[1;33m\u001b[0m\u001b[0m\n",
      "\u001b[1;32m~\\AppData\\Local\\Continuum\\anaconda3\\lib\\site-packages\\scipy\\io\\matlab\\mio.py\u001b[0m in \u001b[0;36m_open_file_context\u001b[1;34m(file_like, appendmat, mode)\u001b[0m\n\u001b[0;32m     17\u001b[0m \u001b[1;33m@\u001b[0m\u001b[0mcontextmanager\u001b[0m\u001b[1;33m\u001b[0m\u001b[1;33m\u001b[0m\u001b[0m\n\u001b[0;32m     18\u001b[0m \u001b[1;32mdef\u001b[0m \u001b[0m_open_file_context\u001b[0m\u001b[1;33m(\u001b[0m\u001b[0mfile_like\u001b[0m\u001b[1;33m,\u001b[0m \u001b[0mappendmat\u001b[0m\u001b[1;33m,\u001b[0m \u001b[0mmode\u001b[0m\u001b[1;33m=\u001b[0m\u001b[1;34m'rb'\u001b[0m\u001b[1;33m)\u001b[0m\u001b[1;33m:\u001b[0m\u001b[1;33m\u001b[0m\u001b[1;33m\u001b[0m\u001b[0m\n\u001b[1;32m---> 19\u001b[1;33m     \u001b[0mf\u001b[0m\u001b[1;33m,\u001b[0m \u001b[0mopened\u001b[0m \u001b[1;33m=\u001b[0m \u001b[0m_open_file\u001b[0m\u001b[1;33m(\u001b[0m\u001b[0mfile_like\u001b[0m\u001b[1;33m,\u001b[0m \u001b[0mappendmat\u001b[0m\u001b[1;33m,\u001b[0m \u001b[0mmode\u001b[0m\u001b[1;33m)\u001b[0m\u001b[1;33m\u001b[0m\u001b[1;33m\u001b[0m\u001b[0m\n\u001b[0m\u001b[0;32m     20\u001b[0m     \u001b[1;32myield\u001b[0m \u001b[0mf\u001b[0m\u001b[1;33m\u001b[0m\u001b[1;33m\u001b[0m\u001b[0m\n\u001b[0;32m     21\u001b[0m     \u001b[1;32mif\u001b[0m \u001b[0mopened\u001b[0m\u001b[1;33m:\u001b[0m\u001b[1;33m\u001b[0m\u001b[1;33m\u001b[0m\u001b[0m\n",
      "\u001b[1;32m~\\AppData\\Local\\Continuum\\anaconda3\\lib\\site-packages\\scipy\\io\\matlab\\mio.py\u001b[0m in \u001b[0;36m_open_file\u001b[1;34m(file_like, appendmat, mode)\u001b[0m\n\u001b[0;32m     43\u001b[0m             \u001b[1;32mif\u001b[0m \u001b[0mappendmat\u001b[0m \u001b[1;32mand\u001b[0m \u001b[1;32mnot\u001b[0m \u001b[0mfile_like\u001b[0m\u001b[1;33m.\u001b[0m\u001b[0mendswith\u001b[0m\u001b[1;33m(\u001b[0m\u001b[1;34m'.mat'\u001b[0m\u001b[1;33m)\u001b[0m\u001b[1;33m:\u001b[0m\u001b[1;33m\u001b[0m\u001b[1;33m\u001b[0m\u001b[0m\n\u001b[0;32m     44\u001b[0m                 \u001b[0mfile_like\u001b[0m \u001b[1;33m+=\u001b[0m \u001b[1;34m'.mat'\u001b[0m\u001b[1;33m\u001b[0m\u001b[1;33m\u001b[0m\u001b[0m\n\u001b[1;32m---> 45\u001b[1;33m             \u001b[1;32mreturn\u001b[0m \u001b[0mopen\u001b[0m\u001b[1;33m(\u001b[0m\u001b[0mfile_like\u001b[0m\u001b[1;33m,\u001b[0m \u001b[0mmode\u001b[0m\u001b[1;33m)\u001b[0m\u001b[1;33m,\u001b[0m \u001b[1;32mTrue\u001b[0m\u001b[1;33m\u001b[0m\u001b[1;33m\u001b[0m\u001b[0m\n\u001b[0m\u001b[0;32m     46\u001b[0m         \u001b[1;32melse\u001b[0m\u001b[1;33m:\u001b[0m\u001b[1;33m\u001b[0m\u001b[1;33m\u001b[0m\u001b[0m\n\u001b[0;32m     47\u001b[0m             \u001b[1;32mraise\u001b[0m \u001b[0mIOError\u001b[0m\u001b[1;33m(\u001b[0m\u001b[1;34m'Reader needs file name or open file-like object'\u001b[0m\u001b[1;33m)\u001b[0m\u001b[1;33m\u001b[0m\u001b[1;33m\u001b[0m\u001b[0m\n",
      "\u001b[1;31mFileNotFoundError\u001b[0m: [Errno 2] No such file or directory: 'H:\\\\data\\\\ISRUC\\\\1\\\\subject1.mat'"
     ]
    }
   ],
   "source": [
    "\n",
    "\n",
    "file_name = os.path.join(ROOT, 'subject1')\n",
    "print(file_name)\n",
    "\n",
    "matrix_thing = scipy.io.loadmat(file_name)\n",
    "\n",
    "print(matrix_thing)\n"
   ]
  },
  {
   "cell_type": "code",
   "execution_count": 27,
   "metadata": {},
   "outputs": [
    {
     "name": "stdout",
     "output_type": "stream",
     "text": [
      "dict_keys(['__header__', '__version__', '__globals__', 'F3_A2', 'C3_A2', 'O1_A2', 'F4_A1', 'C4_A1', 'O2_A1', 'ROC_A1', 'LOC_A2', 'X1', 'X2', 'X3'])\n"
     ]
    }
   ],
   "source": [
    "print(matrix_thing.keys())"
   ]
  },
  {
   "cell_type": "code",
   "execution_count": 25,
   "metadata": {},
   "outputs": [
    {
     "name": "stdout",
     "output_type": "stream",
     "text": [
      "(850, 6000)\n"
     ]
    }
   ],
   "source": [
    "print(matrix_thing['F3_A2'].shape)\n",
    "\n",
    "# 850 epochs, each of 30 seconds long, at Hz 200"
   ]
  },
  {
   "cell_type": "code",
   "execution_count": 50,
   "metadata": {},
   "outputs": [
    {
     "name": "stdout",
     "output_type": "stream",
     "text": [
      "<_io.BufferedReader name='H:\\\\data\\\\ISRUC\\\\1\\\\1.rec'>\n",
      "b'0       1                                                                               Startdate 18-MAY-2009 X X Somnostar_Pro SensorMedics_Corporation                18.05.0923.37.005120                                                13200   2       19  LOC-A2          ROC-A1          F3-A2           C3-A2           O1-A2           F4-A1           C4-A1           O2-A1           X1              X2              X3              X4              X5              X6              DC3             X7              X8              SaO2            DC8             EOG_Channel                                                                     EOG2_Channel                                                                    EEG_Channel                                                                     EEG_Channel                                                                     EEG_Channel                                                                     EEG2_Channel                                                                    EEG2_Channel                                                                    EEG2_Channel                                                                    Chin_Channel                                                                    EKG_Channel                                                                     Leg_Channel                                                                     Leg2_Channel                                                                    Snore_Channel                                                                   Flow_Channel                                                                    Flow2_Channel                                                                   Effort_Channel                                                                  Effort2_Channel                                                                 SaO2_Channel                                                                    BPOS_Channel                                                                    uV      uV      uV      uV      uV      uV      uV      uV      uV      uV      uV      uV      uV      uV      uV      uV      uV      %               -25     -25     -25     -25     -25     -25     -25     -25     -101    -87     -39     -33     -612    -16     -698    -142    -979    0       0       25      25      25      25      25      25      25      25      101     87      39      33      612     16      698     142     979     100     200     -32768  -32768  -32768  -32768  -32768  -32768  -32768  -32768  -32768  -32768  -32768  -32768  -32768  -32768  -32768  -32768  -32768  -32768  -32768  32767   32767   32767   32767   32767   32767   32767   32767   32767   32767   32767   32767   32767   32767   32767   32767   32767   32767   32767   High Cut:35 Hz,Low Cut:0.3 Hz,Notch:50 Hz                                       High Cut:35 Hz,Low Cut:0.3 Hz,Notch:50 Hz                                       High Cut:35 Hz,Low Cut:0.3 Hz,Notch:50 Hz                                       High Cut:35 Hz,Low Cut:0.3 Hz,Notch:50 Hz                                       High Cut:35 Hz,Low Cut:0.3 Hz,Notch:50 Hz                                       High Cut:35 Hz,Low Cut:0.3 Hz,Notch:50 Hz                                       High Cut:35 Hz,Low Cut:0.3 Hz,Notch:50 Hz                                       High Cut:35 Hz,Low Cut:0.3 Hz,Notch:50 Hz                                       High Cut:70 Hz,Low Cut:10 Hz,Notch:50 Hz                                        Notch:50 Hz                                                                     High Cut:70 Hz,Low Cut:10 Hz,Notch:50 Hz                                        High Cut:70 Hz,Low Cut:10 Hz,Notch:50 Hz                                        High Cut:70 Hz,Low Cut:10 Hz,Notch:50 Hz                                                                                                                                                                                                                                                                                                                                                                                                                                                                                                                                        400     400     400     400     400     400     400     400     400     400     400     400     400     25      50      50      50      25      50                                                                                                                                                                                                                                                                                                                                                                                                                                                                                                                                                                                                                                      \\x00\\x00\\xaa\\xffd\\xfd\\xc7\\xf8\\x13\\xf9\\xbb\\x06\\xe0\\x17\\xdc\\x17\\xa0\\t\\xa6\\x05m\\x10\\t\\x15\\xf1\\x0c\\x94\\t\\xd7\\x11\\x8b\\x17\\xd0\\x13\\xe6\\x10\\xd5\\x13\\xae\\x14\\xcd\\x0f\\xaf\\x0b\\xb8\\x0b\\x8a\\x0b\\x9d\\x08\\xc9\\x05\\x0b\\x05\\x07\\x05\\x91\\x04E\\x04\\r\\x05\\x91\\x06\\xf3\\x06\\xc6\\x04S\\x01<\\xff\\xd2\\xfe\\x17\\xfe\\xdf\\xfc*\\xfd\\x87\\xfe\\xfa\\xfd\\xc9\\xfb\\xee\\xfbB\\xff\\xcf\\x01\\xce\\x01-\\x02\\xe2\\x03\\x82\\x03G\\x00p\\xfe\\xb7\\xffB\\x003\\xfe\\xfa\\xfc\\xde\\xfd\\x17\\xfd\\x9d\\xf9\\xc1\\xf7\\n'\n"
     ]
    }
   ],
   "source": [
    "with open(os.path.join(ROOT, '1.rec'), 'rb') as f:\n",
    "    print(f)\n",
    "    print(f.readline())\n",
    "#     print(f.read())"
   ]
  },
  {
   "cell_type": "code",
   "execution_count": 53,
   "metadata": {
    "scrolled": true
   },
   "outputs": [
    {
     "name": "stderr",
     "output_type": "stream",
     "text": [
      "Data successfully loaded (H:/data/ISRUC/1/1.rec):\n",
      "- Sampling-frequency : 200.00Hz\n",
      "- Number of time points (before down-sampling): 5280000\n",
      "- Down-sampling frequency : 100.00Hz\n",
      "- Number of time points (after down-sampling): 2640000\n",
      "- Number of channels : 13\n",
      "C:\\Users\\murco.DESKTOP-R324UUU\\Anaconda3\\lib\\site-packages\\visbrain\\io\\read_sleep.py:213: UserWarning: Wrong channel data amplitude. \n",
      "  warn(\"Wrong channel data amplitude. \")\n",
      "C:\\Users\\murco.DESKTOP-R324UUU\\Anaconda3\\lib\\site-packages\\visbrain\\gui\\sleep\\visuals\\marker.py:569: FutureWarning: Passing (type, 1) or '1type' as a synonym of type is deprecated; in a future version of numpy, it will be understood as (type, (1,)) / '(1,)type'.\n",
      "  ('a_edgewidth', np.float32, 1)])\n",
      "Downloading C:\\Users\\murco.DESKTOP-R324UUU\\visbrain_data\\topo\\eegref.npz\n",
      "Folder C:\\Users\\murco.DESKTOP-R324UUU\\visbrain_data\\topo created\n",
      "STATUS : 100.0% 311296 / 311220\n",
      "\u001b[1m\u001b[1;33mWARNING\u001b[0m | Ignored channels for topoplot : LOC, ROC\n",
      "File already dowloaded (C:\\Users\\murco.DESKTOP-R324UUU\\visbrain_data\\topo\\eegref.npz).\n",
      "visbrain_data has been added to C:\\Users\\murco.DESKTOP-R324UUU\\visbrain_data\\icons\n",
      "Downloading C:\\Users\\murco.DESKTOP-R324UUU\\visbrain_data\\icons\\sleep_icon.svg\n",
      "STATUS : 100.0% 139264 / 133338\n"
     ]
    }
   ],
   "source": [
    "from visbrain.gui import Sleep\n",
    "Sleep().show()"
   ]
  },
  {
   "cell_type": "code",
   "execution_count": null,
   "metadata": {},
   "outputs": [],
   "source": []
  }
 ],
 "metadata": {
  "kernelspec": {
   "display_name": "Python 3",
   "language": "python",
   "name": "python3"
  },
  "language_info": {
   "codemirror_mode": {
    "name": "ipython",
    "version": 3
   },
   "file_extension": ".py",
   "mimetype": "text/x-python",
   "name": "python",
   "nbconvert_exporter": "python",
   "pygments_lexer": "ipython3",
   "version": "3.7.4"
  }
 },
 "nbformat": 4,
 "nbformat_minor": 2
}
