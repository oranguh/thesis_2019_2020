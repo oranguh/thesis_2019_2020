{
 "cells": [
  {
   "cell_type": "code",
   "execution_count": null,
   "metadata": {},
   "outputs": [],
   "source": []
  },
  {
   "cell_type": "code",
   "execution_count": 1,
   "metadata": {},
   "outputs": [],
   "source": [
    "import pyedflib\n",
    "\n",
    "signal_path = \"G:\\\\HMC22\\\\test\\\\edf\\\\SN1.edf\"\n",
    "annotation_path = \"G:\\\\HMC22\\\\test\\\\scorings\\\\SN1.edf\""
   ]
  },
  {
   "cell_type": "code",
   "execution_count": 2,
   "metadata": {},
   "outputs": [
    {
     "ename": "OSError",
     "evalue": "the file is not EDF(+) or BDF(+) compliant (it contains format errors)",
     "output_type": "error",
     "traceback": [
      "\u001b[1;31m---------------------------------------------------------------------------\u001b[0m",
      "\u001b[1;31mOSError\u001b[0m                                   Traceback (most recent call last)",
      "\u001b[1;32m<ipython-input-2-3966fbcb5eec>\u001b[0m in \u001b[0;36m<module>\u001b[1;34m\u001b[0m\n\u001b[1;32m----> 1\u001b[1;33m \u001b[1;32mwith\u001b[0m \u001b[0mpyedflib\u001b[0m\u001b[1;33m.\u001b[0m\u001b[0mEdfReader\u001b[0m\u001b[1;33m(\u001b[0m\u001b[0msignal_path\u001b[0m\u001b[1;33m)\u001b[0m \u001b[1;32mas\u001b[0m \u001b[0mf\u001b[0m\u001b[1;33m:\u001b[0m\u001b[1;33m\u001b[0m\u001b[1;33m\u001b[0m\u001b[0m\n\u001b[0m\u001b[0;32m      2\u001b[0m     \u001b[0mprint\u001b[0m\u001b[1;33m(\u001b[0m\u001b[0mf\u001b[0m\u001b[1;33m)\u001b[0m\u001b[1;33m\u001b[0m\u001b[1;33m\u001b[0m\u001b[0m\n\u001b[0;32m      3\u001b[0m \u001b[1;33m\u001b[0m\u001b[0m\n\u001b[0;32m      4\u001b[0m \u001b[1;32mwith\u001b[0m \u001b[0mpyedflib\u001b[0m\u001b[1;33m.\u001b[0m\u001b[0mEdfReader\u001b[0m\u001b[1;33m(\u001b[0m\u001b[0mannotation_path\u001b[0m\u001b[1;33m)\u001b[0m \u001b[1;32mas\u001b[0m \u001b[0mf\u001b[0m\u001b[1;33m:\u001b[0m\u001b[1;33m\u001b[0m\u001b[1;33m\u001b[0m\u001b[0m\n\u001b[0;32m      5\u001b[0m     \u001b[0mprint\u001b[0m\u001b[1;33m(\u001b[0m\u001b[0mf\u001b[0m\u001b[1;33m)\u001b[0m\u001b[1;33m\u001b[0m\u001b[1;33m\u001b[0m\u001b[0m\n",
      "\u001b[1;32mpyedflib\\_extensions\\_pyedflib.pyx\u001b[0m in \u001b[0;36mpyedflib._extensions._pyedflib.CyEdfReader.__init__\u001b[1;34m()\u001b[0m\n",
      "\u001b[1;32mpyedflib\\_extensions\\_pyedflib.pyx\u001b[0m in \u001b[0;36mpyedflib._extensions._pyedflib.CyEdfReader.open\u001b[1;34m()\u001b[0m\n",
      "\u001b[1;32mpyedflib\\_extensions\\_pyedflib.pyx\u001b[0m in \u001b[0;36mpyedflib._extensions._pyedflib.CyEdfReader.check_open_ok\u001b[1;34m()\u001b[0m\n",
      "\u001b[1;31mOSError\u001b[0m: the file is not EDF(+) or BDF(+) compliant (it contains format errors)"
     ]
    }
   ],
   "source": [
    "with pyedflib.EdfReader(signal_path) as f:\n",
    "    print(f)\n",
    "\n",
    "with pyedflib.EdfReader(annotation_path) as f:\n",
    "    print(f)"
   ]
  },
  {
   "cell_type": "code",
   "execution_count": 3,
   "metadata": {},
   "outputs": [
    {
     "name": "stdout",
     "output_type": "stream",
     "text": [
      "Extracting EDF parameters from G:\\HMC22\\test\\edf\\SN1.edf...\n",
      "EDF file detected\n",
      "Setting channel info structure...\n",
      "Creating raw.info structure...\n",
      "Reading 0 ... 7004159  =      0.000 ... 27359.996 secs...\n",
      "<RawEDF  |  SN1.edf, n_channels x n_times : 27 x 7004160 (27360.0 sec), ~1.41 GB, data loaded>\n"
     ]
    }
   ],
   "source": [
    "import mne\n",
    "edf = mne.io.read_raw_edf(signal_path, preload=True)\n",
    "\n",
    "print(edf)"
   ]
  },
  {
   "cell_type": "code",
   "execution_count": 46,
   "metadata": {},
   "outputs": [
    {
     "name": "stdout",
     "output_type": "stream",
     "text": [
      "Extracting EDF parameters from G:\\HMC22\\test\\scorings\\SN1 - Copy.edf...\n",
      "EDF file detected\n",
      "Setting channel info structure...\n",
      "Creating raw.info structure...\n",
      "Reading 0 ... 40959  =      0.000 ...   499.988 secs...\n",
      "<RawEDF  |  SN1 - Copy.edf, n_channels x n_times : 1 x 40960 (500.0 sec), ~327 kB, data loaded>\n"
     ]
    },
    {
     "ename": "AttributeError",
     "evalue": "'RawEDF' object has no attribute 'events'",
     "output_type": "error",
     "traceback": [
      "\u001b[1;31m---------------------------------------------------------------------------\u001b[0m",
      "\u001b[1;31mAttributeError\u001b[0m                            Traceback (most recent call last)",
      "\u001b[1;32m<ipython-input-46-9cd160e49401>\u001b[0m in \u001b[0;36m<module>\u001b[1;34m\u001b[0m\n\u001b[0;32m      3\u001b[0m \u001b[0mprint\u001b[0m\u001b[1;33m(\u001b[0m\u001b[0mannotations\u001b[0m\u001b[1;33m)\u001b[0m\u001b[1;33m\u001b[0m\u001b[1;33m\u001b[0m\u001b[0m\n\u001b[0;32m      4\u001b[0m \u001b[1;33m\u001b[0m\u001b[0m\n\u001b[1;32m----> 5\u001b[1;33m \u001b[0mannotations\u001b[0m\u001b[1;33m.\u001b[0m\u001b[0mevents\u001b[0m\u001b[1;33m[\u001b[0m\u001b[1;33m:\u001b[0m\u001b[1;33m,\u001b[0m \u001b[1;36m2\u001b[0m\u001b[1;33m]\u001b[0m \u001b[1;33m>>=\u001b[0m \u001b[1;36m8\u001b[0m\u001b[1;33m\u001b[0m\u001b[1;33m\u001b[0m\u001b[0m\n\u001b[0m\u001b[0;32m      6\u001b[0m \u001b[1;33m\u001b[0m\u001b[0m\n\u001b[0;32m      7\u001b[0m \u001b[0mevents\u001b[0m \u001b[1;33m=\u001b[0m \u001b[0mmne\u001b[0m\u001b[1;33m.\u001b[0m\u001b[0mevents_from_annotations\u001b[0m\u001b[1;33m(\u001b[0m\u001b[0mannotations\u001b[0m\u001b[1;33m)\u001b[0m\u001b[1;33m\u001b[0m\u001b[1;33m\u001b[0m\u001b[0m\n",
      "\u001b[1;31mAttributeError\u001b[0m: 'RawEDF' object has no attribute 'events'"
     ]
    }
   ],
   "source": [
    "annotations = mne.io.read_raw_edf(\"G:\\\\HMC22\\\\test\\\\scorings\\\\SN1 - Copy.edf\", preload=True, verbose='INFO')\n",
    "\n",
    "print(annotations)\n",
    "\n",
    "events = mne.events_from_annotations(annotations)\n",
    "\n",
    "print(events)"
   ]
  },
  {
   "cell_type": "code",
   "execution_count": 6,
   "metadata": {},
   "outputs": [
    {
     "data": {
      "text/plain": [
       "{'_last_samps': array([7004159]),\n",
       " '_first_samps': array([0]),\n",
       " 'info': <Info | 16 non-empty fields\n",
       "     bads : list | 0 items\n",
       "     ch_names : list | EEG A2-Cz, EEG C4-Cz, EEG A1-Cz, EEG Fpz-Cz, EMG chin+, ...\n",
       "     chs : list | 27 items (EEG: 27)\n",
       "     comps : list | 0 items\n",
       "     custom_ref_applied : bool | False\n",
       "     dev_head_t : Transform | 3 items\n",
       "     events : list | 0 items\n",
       "     highpass : float | 0.0 Hz\n",
       "     hpi_meas : list | 0 items\n",
       "     hpi_results : list | 0 items\n",
       "     lowpass : float | 128.0 Hz\n",
       "     meas_date : tuple | 2016-08-08 22:29:00 GMT\n",
       "     nchan : int | 27\n",
       "     proc_history : list | 0 items\n",
       "     projs : list | 0 items\n",
       "     sfreq : float | 256.0 Hz\n",
       "     acq_pars : NoneType\n",
       "     acq_stim : NoneType\n",
       "     ctf_head_t : NoneType\n",
       "     description : NoneType\n",
       "     dev_ctf_t : NoneType\n",
       "     device_info : NoneType\n",
       "     dig : NoneType\n",
       "     experimenter : NoneType\n",
       "     file_id : NoneType\n",
       "     gantry_angle : NoneType\n",
       "     helium_info : NoneType\n",
       "     hpi_subsystem : NoneType\n",
       "     kit_system_id : NoneType\n",
       "     line_freq : NoneType\n",
       "     meas_id : NoneType\n",
       "     proj_id : NoneType\n",
       "     proj_name : NoneType\n",
       "     subject_info : NoneType\n",
       "     utc_offset : NoneType\n",
       "     xplotter_layout : NoneType\n",
       " >,\n",
       " 'buffer_size_sec': 1.0,\n",
       " 'verbose': None,\n",
       " '_cals': array([1.04856e+08, 1.04856e+08, 1.04856e+08, 1.04856e+08, 1.04856e+08,\n",
       "        1.04856e+08, 1.04856e+08, 1.04856e+08, 1.04856e+08, 1.04856e+08,\n",
       "        1.04856e+08, 1.04856e+08, 3.14568e+08, 1.31070e+08, 4.00000e+06,\n",
       "        3.14568e+06, 1.31070e+08, 1.31070e+08, 1.57284e+08, 1.31070e+08,\n",
       "        1.31070e+08, 1.57284e+08, 4.09500e+04, 1.96560e+07, 2.55000e+05,\n",
       "        6.50250e+04, 6.50250e+04]),\n",
       " '_raw_extras': [{'events': [],\n",
       "   'units': [1e-06,\n",
       "    1e-06,\n",
       "    1e-06,\n",
       "    1e-06,\n",
       "    1e-06,\n",
       "    1e-06,\n",
       "    1e-06,\n",
       "    1e-06,\n",
       "    1e-06,\n",
       "    1e-06,\n",
       "    1e-06,\n",
       "    1e-06,\n",
       "    1e-06,\n",
       "    1,\n",
       "    1,\n",
       "    1,\n",
       "    1,\n",
       "    1,\n",
       "    1e-06,\n",
       "    1,\n",
       "    1,\n",
       "    1e-06,\n",
       "    1,\n",
       "    0.001,\n",
       "    1,\n",
       "    1,\n",
       "    1],\n",
       "   'ch_names': ['EEG A2-Cz',\n",
       "    'EEG C4-Cz',\n",
       "    'EEG A1-Cz',\n",
       "    'EEG Fpz-Cz',\n",
       "    'EMG chin+',\n",
       "    'EOG E2-Cz',\n",
       "    'EEG F4-Cz',\n",
       "    'EEG O2-Cz',\n",
       "    'EEG F3-Cz',\n",
       "    'EEG O1-Cz',\n",
       "    'EOG E1-Cz',\n",
       "    'EMG chin-',\n",
       "    'ECG',\n",
       "    'Resp oro-nasal',\n",
       "    'Sound',\n",
       "    'CPAP pressure',\n",
       "    'Resp nasal',\n",
       "    'Resp chest',\n",
       "    'EMG RAT',\n",
       "    'Sound snore',\n",
       "    'Resp abdomen',\n",
       "    'EMG LAT',\n",
       "    'Body position',\n",
       "    'Accu',\n",
       "    'Pleth',\n",
       "    'Pulse',\n",
       "    'SaO2'],\n",
       "   'data_offset': 7424,\n",
       "   'digital_max': array([32767., 32767., 32767., 32767., 32767., 32767., 32767., 32767.,\n",
       "          32767., 32767., 32767., 32767., 32767., 32767., 10000., 32767.,\n",
       "          32767., 32767., 32767., 32767., 32767., 32767.,  4095.,  4095.,\n",
       "            255.,   255.,   255.]),\n",
       "   'digital_min': array([-32768., -32768., -32768., -32768., -32768., -32768., -32768.,\n",
       "          -32768., -32768., -32768., -32768., -32768., -32768., -32768.,\n",
       "          -10000., -32768., -32768., -32768., -32768., -32768., -32768.,\n",
       "          -32768.,      0.,      0.,      0.,      0.,      0.]),\n",
       "   'highpass': array([], dtype=float64),\n",
       "   'sel': array([ 0,  1,  2,  3,  4,  5,  6,  7,  8,  9, 10, 11, 12, 13, 14, 15, 16,\n",
       "          17, 18, 19, 20, 21, 22, 23, 24, 25, 26]),\n",
       "   'lowpass': array([], dtype=float64),\n",
       "   'meas_date': (1470695340, 0),\n",
       "   'n_records': 27360,\n",
       "   'n_samps': array([256, 256, 256, 256, 256, 256, 256, 256, 256, 256, 256, 256, 256,\n",
       "           32, 256,  32, 256,  32, 256, 256,  32, 256,   4,   4, 128,   4,\n",
       "            4,  60]),\n",
       "   'nchan': 28,\n",
       "   'subject_info': {'id': 'SN1', 'name': ''},\n",
       "   'physical_max': array([ 800.,  800.,  800.,  800.,  800.,  800.,  800.,  800.,  800.,\n",
       "           800.,  800.,  800., 2400., 1000.,  100.,   24., 1000., 1000.,\n",
       "          1200., 1000., 1000., 1200.,   10., 4800., 1000.,  255.,  255.]),\n",
       "   'physical_min': array([ -800.,  -800.,  -800.,  -800.,  -800.,  -800.,  -800.,  -800.,\n",
       "           -800.,  -800.,  -800.,  -800., -2400., -1000.,  -100.,   -24.,\n",
       "          -1000., -1000., -1200., -1000., -1000., -1200.,     0.,     0.,\n",
       "              0.,     0.,     0.]),\n",
       "   'record_length': array([1., 1.]),\n",
       "   'subtype': 'edf',\n",
       "   'tal_idx': array([27], dtype=int64),\n",
       "   'dtype_byte': 2,\n",
       "   'dtype_np': numpy.int16,\n",
       "   'stim_channel': None,\n",
       "   'max_samp': 256,\n",
       "   'nsamples': 7004160}],\n",
       " '_read_comp_grade': None,\n",
       " '_comp': None,\n",
       " '_filenames': ['G:\\\\HMC22\\\\test\\\\edf\\\\SN1.edf'],\n",
       " 'orig_format': 'int',\n",
       " '_orig_units': {'EEG A2-Cz': 'µV',\n",
       "  'EEG C4-Cz': 'µV',\n",
       "  'EEG A1-Cz': 'µV',\n",
       "  'EEG Fpz-Cz': 'µV',\n",
       "  'EMG chin+': 'µV',\n",
       "  'EOG E2-Cz': 'µV',\n",
       "  'EEG F4-Cz': 'µV',\n",
       "  'EEG O2-Cz': 'µV',\n",
       "  'EEG F3-Cz': 'µV',\n",
       "  'EEG O1-Cz': 'µV',\n",
       "  'EOG E1-Cz': 'µV',\n",
       "  'EMG chin-': 'µV',\n",
       "  'ECG': 'µV',\n",
       "  'Resp oro-nasal': 'n/a',\n",
       "  'Sound': 'n/a',\n",
       "  'CPAP pressure': 'n/a',\n",
       "  'Resp nasal': 'n/a',\n",
       "  'Resp chest': 'n/a',\n",
       "  'EMG RAT': 'µV',\n",
       "  'Sound snore': 'n/a',\n",
       "  'Resp abdomen': 'n/a',\n",
       "  'EMG LAT': 'µV',\n",
       "  'Body position': 'n/a',\n",
       "  'Accu': 'mV',\n",
       "  'Pleth': 'n/a',\n",
       "  'Pulse': 'n/a',\n",
       "  'SaO2': 'n/a'},\n",
       " '_projectors': [],\n",
       " '_projector': None,\n",
       " '_dtype_': numpy.float64,\n",
       " '_annotations': <Annotations  |  0 segments , orig_time : 2016-08-08 22:29:00>,\n",
       " '_times': array([0.00000000e+00, 3.90625000e-03, 7.81250000e-03, ...,\n",
       "        2.73599883e+04, 2.73599922e+04, 2.73599961e+04]),\n",
       " '_data': array([[ 1.22072175e-08,  1.22072175e-08,  1.22072175e-08, ...,\n",
       "          5.73739223e-07, -1.33913176e-05, -1.77859159e-05],\n",
       "        [ 1.22072175e-08,  1.22072175e-08,  1.22072175e-08, ...,\n",
       "          1.10719463e-05,  8.92347601e-06,  9.19203479e-06],\n",
       "        [ 1.22072175e-08,  1.22072175e-08,  1.22072175e-08, ...,\n",
       "         -1.95925841e-05, -1.57595178e-05, -1.64675364e-05],\n",
       "        ...,\n",
       "        [ 0.00000000e+00,  0.00000000e+00,  0.00000000e+00, ...,\n",
       "          1.90019913e+02,  2.00000000e+02,  2.29821724e+02],\n",
       "        [ 0.00000000e+00,  0.00000000e+00,  0.00000000e+00, ...,\n",
       "          5.60000000e+01,  5.60000000e+01,  5.60000000e+01],\n",
       "        [ 0.00000000e+00,  0.00000000e+00,  0.00000000e+00, ...,\n",
       "          9.40040606e+01,  9.40018061e+01,  9.40004517e+01]]),\n",
       " 'preload': True,\n",
       " '_init_kwargs': {'input_fname': 'G:\\\\HMC22\\\\test\\\\edf\\\\SN1.edf',\n",
       "  'montage': 'deprecated',\n",
       "  'eog': None,\n",
       "  'misc': None,\n",
       "  'stim_channel': 'auto',\n",
       "  'exclude': (),\n",
       "  'preload': True,\n",
       "  'verbose': None}}"
      ]
     },
     "execution_count": 6,
     "metadata": {},
     "output_type": "execute_result"
    }
   ],
   "source": [
    "edf.__dict__"
   ]
  },
  {
   "cell_type": "code",
   "execution_count": 151,
   "metadata": {
    "scrolled": true
   },
   "outputs": [
    {
     "data": {
      "text/plain": [
       "7.6"
      ]
     },
     "execution_count": 151,
     "metadata": {},
     "output_type": "execute_result"
    }
   ],
   "source": [
    "total_length = edf._data.shape[1]\n",
    "sfreq = 256\n",
    "seconds_to_hour = 60*60\n",
    "\n",
    "total_length/sfreq/seconds_to_hour"
   ]
  },
  {
   "cell_type": "code",
   "execution_count": 53,
   "metadata": {},
   "outputs": [
    {
     "name": "stdout",
     "output_type": "stream",
     "text": [
      "<Annotations  |  0 segments , orig_time : 2016-08-08 22:29:00>\n",
      "<Info | 16 non-empty fields\n",
      "    bads : list | 0 items\n",
      "    ch_names : list | EDF Annotation\n",
      "    chs : list | 1 items (EEG: 1)\n",
      "    comps : list | 0 items\n",
      "    custom_ref_applied : bool | False\n",
      "    dev_head_t : Transform | 3 items\n",
      "    events : list | 0 items\n",
      "    highpass : float | 0.0 Hz\n",
      "    hpi_meas : list | 0 items\n",
      "    hpi_results : list | 0 items\n",
      "    lowpass : float | 40.96 Hz\n",
      "    meas_date : tuple | 2016-08-08 22:29:00 GMT\n",
      "    nchan : int | 1\n",
      "    proc_history : list | 0 items\n",
      "    projs : list | 0 items\n",
      "    sfreq : float | 81.92 Hz\n",
      "    acq_pars : NoneType\n",
      "    acq_stim : NoneType\n",
      "    ctf_head_t : NoneType\n",
      "    description : NoneType\n",
      "    dev_ctf_t : NoneType\n",
      "    device_info : NoneType\n",
      "    dig : NoneType\n",
      "    experimenter : NoneType\n",
      "    file_id : NoneType\n",
      "    gantry_angle : NoneType\n",
      "    helium_info : NoneType\n",
      "    hpi_subsystem : NoneType\n",
      "    kit_system_id : NoneType\n",
      "    line_freq : NoneType\n",
      "    meas_id : NoneType\n",
      "    proj_id : NoneType\n",
      "    proj_name : NoneType\n",
      "    subject_info : NoneType\n",
      "    utc_offset : NoneType\n",
      "    xplotter_layout : NoneType\n",
      ">\n"
     ]
    }
   ],
   "source": [
    "print(annotations._annotations)\n",
    "\n",
    "print(annotations.info)"
   ]
  },
  {
   "cell_type": "code",
   "execution_count": 32,
   "metadata": {},
   "outputs": [
    {
     "name": "stdout",
     "output_type": "stream",
     "text": [
      "(40960,)\n",
      "(1, 40960)\n",
      "[0.62549783 0.68816663 0.578439   ... 0.50000763 0.50000763 0.50000763]\n"
     ]
    }
   ],
   "source": [
    "print(annotations._times.shape)\n",
    "\n",
    "print(annotations._data.shape)\n",
    "\n",
    "print(annotations._data[0])"
   ]
  },
  {
   "cell_type": "code",
   "execution_count": 34,
   "metadata": {},
   "outputs": [
    {
     "data": {
      "image/png": "[encoded data removed]",
      "text/plain": [
       "<Figure size 432x288 with 1 Axes>"
      ]
     },
     "metadata": {
      "needs_background": "light"
     },
     "output_type": "display_data"
    }
   ],
   "source": [
    "import matplotlib.pyplot as plt\n",
    "\n",
    "plt.plot(annotations._data[0][:100])\n",
    "plt.show()"
   ]
  },
  {
   "cell_type": "code",
   "execution_count": 36,
   "metadata": {},
   "outputs": [
    {
     "ename": "AttributeError",
     "evalue": "module 'mne.io' has no attribute 'find_edf_events'",
     "output_type": "error",
     "traceback": [
      "\u001b[1;31m---------------------------------------------------------------------------\u001b[0m",
      "\u001b[1;31mAttributeError\u001b[0m                            Traceback (most recent call last)",
      "\u001b[1;32m<ipython-input-36-2dda1349f51d>\u001b[0m in \u001b[0;36m<module>\u001b[1;34m\u001b[0m\n\u001b[1;32m----> 1\u001b[1;33m \u001b[0mtemp\u001b[0m \u001b[1;33m=\u001b[0m \u001b[0mmne\u001b[0m\u001b[1;33m.\u001b[0m\u001b[0mio\u001b[0m\u001b[1;33m.\u001b[0m\u001b[0mfind_edf_events\u001b[0m\u001b[1;33m(\u001b[0m\u001b[0mfoo\u001b[0m\u001b[1;33m)\u001b[0m\u001b[1;33m\u001b[0m\u001b[1;33m\u001b[0m\u001b[0m\n\u001b[0m",
      "\u001b[1;31mAttributeError\u001b[0m: module 'mne.io' has no attribute 'find_edf_events'"
     ]
    }
   ],
   "source": [
    "temp = mne.io.find_edf_events(foo)"
   ]
  },
  {
   "cell_type": "code",
   "execution_count": null,
   "metadata": {
    "scrolled": true
   },
   "outputs": [],
   "source": []
  },
  {
   "cell_type": "code",
   "execution_count": 161,
   "metadata": {
    "scrolled": true
   },
   "outputs": [
    {
     "name": "stdout",
     "output_type": "stream",
     "text": [
      "0       SN1                                                                             Startdate X X X X X                                                             08.08.1622.29.00512     EDF+C                                       5       100       1   EDF Annotations                                                                                         0       1       -32768  32767                                                                                   8192                      \n"
     ]
    }
   ],
   "source": [
    "import binascii\n",
    "import csv \n",
    "\n",
    "with open(\"G:\\\\HMC22\\\\test\\\\scorings\\\\SN1 - Copy.edf\", \"r\") as f:\n",
    "    for row in f:\n",
    "#         print(row)\n",
    "        print(row[:500])\n",
    "#         print()\n",
    "        texts = row[500:].strip().rsplit(\"\\x14\")\n",
    "        \n",
    "#         dfg = csv.reader(row[500:].strip(), delimiter='+')\n",
    "#         for ro in dfg:\n",
    "#             print(ro)\n",
    "#     row = f.read()\n",
    "#     print(binascii.hexlify(row))"
   ]
  },
  {
   "cell_type": "code",
   "execution_count": 162,
   "metadata": {},
   "outputs": [],
   "source": [
    "texts = [x.replace(\"\\x00\", \"\") for x in texts]\n",
    "texts = [x.replace(\"+\", \"\") for x in texts]\n",
    "texts = [x.replace(\"@@EMG LAT\", \"\") for x in texts]\n",
    "texts = [x.replace(\"@@EMG RAT\", \"\") for x in texts]\n",
    "\n",
    "texts = [x.replace(\"\\x15\", \":\") for x in texts]\n",
    "texts = [x.split(\":\") for x in texts]"
   ]
  },
  {
   "cell_type": "code",
   "execution_count": 167,
   "metadata": {},
   "outputs": [
    {
     "ename": "TypeError",
     "evalue": "unhashable type: 'list'",
     "output_type": "error",
     "traceback": [
      "\u001b[1;31m---------------------------------------------------------------------------\u001b[0m",
      "\u001b[1;31mTypeError\u001b[0m                                 Traceback (most recent call last)",
      "\u001b[1;32m<ipython-input-167-e64ae168c5ec>\u001b[0m in \u001b[0;36m<module>\u001b[1;34m\u001b[0m\n\u001b[0;32m     15\u001b[0m \u001b[1;33m\u001b[0m\u001b[0m\n\u001b[0;32m     16\u001b[0m         \u001b[0monset_duration\u001b[0m \u001b[1;33m=\u001b[0m \u001b[1;33m[\u001b[0m\u001b[0mfloat\u001b[0m\u001b[1;33m(\u001b[0m\u001b[0mx\u001b[0m\u001b[1;33m)\u001b[0m \u001b[1;32mfor\u001b[0m \u001b[0mx\u001b[0m \u001b[1;32min\u001b[0m \u001b[0monset_duration\u001b[0m\u001b[1;33m]\u001b[0m\u001b[1;33m\u001b[0m\u001b[1;33m\u001b[0m\u001b[0m\n\u001b[1;32m---> 17\u001b[1;33m         \u001b[0mc\u001b[0m\u001b[1;33m[\u001b[0m\u001b[0mevent_name\u001b[0m\u001b[1;33m]\u001b[0m \u001b[1;33m+=\u001b[0m \u001b[1;36m1\u001b[0m\u001b[1;33m\u001b[0m\u001b[1;33m\u001b[0m\u001b[0m\n\u001b[0m\u001b[0;32m     18\u001b[0m         \u001b[0mprint\u001b[0m\u001b[1;33m(\u001b[0m\u001b[0monset_duration\u001b[0m\u001b[1;33m)\u001b[0m\u001b[1;33m\u001b[0m\u001b[1;33m\u001b[0m\u001b[0m\n\u001b[0;32m     19\u001b[0m         \u001b[0mprint\u001b[0m\u001b[1;33m(\u001b[0m\u001b[0mevent_name\u001b[0m\u001b[1;33m)\u001b[0m\u001b[1;33m\u001b[0m\u001b[1;33m\u001b[0m\u001b[0m\n",
      "\u001b[1;31mTypeError\u001b[0m: unhashable type: 'list'"
     ]
    }
   ],
   "source": [
    "import numpy as np\n",
    "from collections import Counter\n",
    "\n",
    "hypnogram = np.zeros(total_length)\n",
    "cntr = Counter()\n",
    "# sfreq\n",
    "\n",
    "\n",
    "for i, x in enumerate(texts):\n",
    "    if i%2 == 0:\n",
    "        continue\n",
    "    else:\n",
    "        onset_duration = texts[i-1]\n",
    "        event_name = texts[i]\n",
    "        \n",
    "        onset_duration = [float(x) for x in onset_duration]\n",
    "        cntr[event_name] += 1\n",
    "        print(onset_duration)\n",
    "        print(event_name)\n",
    "        \n",
    "print(cntr)\n"
   ]
  },
  {
   "cell_type": "code",
   "execution_count": null,
   "metadata": {},
   "outputs": [],
   "source": []
  },
  {
   "cell_type": "code",
   "execution_count": null,
   "metadata": {},
   "outputs": [],
   "source": []
  }
 ],
 "metadata": {
  "kernelspec": {
   "display_name": "Python 3",
   "language": "python",
   "name": "python3"
  },
  "language_info": {
   "codemirror_mode": {
    "name": "ipython",
    "version": 3
   },
   "file_extension": ".py",
   "mimetype": "text/x-python",
   "name": "python",
   "nbconvert_exporter": "python",
   "pygments_lexer": "ipython3",
   "version": "3.7.5"
  }
 },
 "nbformat": 4,
 "nbformat_minor": 2
}
