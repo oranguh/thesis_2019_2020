{
 "cells": [
  {
   "cell_type": "code",
   "execution_count": 216,
   "metadata": {},
   "outputs": [],
   "source": [
    "import mne\n",
    "import matplotlib.pyplot as plt\n",
    "import numpy as np\n",
    "from collections import Counter"
   ]
  },
  {
   "cell_type": "code",
   "execution_count": 1,
   "metadata": {},
   "outputs": [],
   "source": [
    "signal_path = \"G:\\\\HMC22\\\\test\\\\edf\\\\SN1.edf\"\n",
    "annotation_path = \"G:\\\\HMC22\\\\test\\\\scorings\\\\SN1.edf\""
   ]
  },
  {
   "cell_type": "code",
   "execution_count": 3,
   "metadata": {},
   "outputs": [
    {
     "name": "stdout",
     "output_type": "stream",
     "text": [
      "Extracting EDF parameters from G:\\HMC22\\test\\edf\\SN1.edf...\n",
      "EDF file detected\n",
      "Setting channel info structure...\n",
      "Creating raw.info structure...\n",
      "Reading 0 ... 7004159  =      0.000 ... 27359.996 secs...\n",
      "<RawEDF  |  SN1.edf, n_channels x n_times : 27 x 7004160 (27360.0 sec), ~1.41 GB, data loaded>\n"
     ]
    }
   ],
   "source": [
    "edf = mne.io.read_raw_edf(signal_path, preload=True)\n",
    "\n",
    "print(edf)"
   ]
  },
  {
   "cell_type": "code",
   "execution_count": 184,
   "metadata": {},
   "outputs": [
    {
     "data": {
      "text/plain": [
       "{'_last_samps': array([7004159]),\n",
       " '_first_samps': array([0]),\n",
       " 'info': <Info | 16 non-empty fields\n",
       "     bads : list | 0 items\n",
       "     ch_names : list | EEG A2-Cz, EEG C4-Cz, EEG A1-Cz, EEG Fpz-Cz, EMG chin+, ...\n",
       "     chs : list | 27 items (EEG: 27)\n",
       "     comps : list | 0 items\n",
       "     custom_ref_applied : bool | False\n",
       "     dev_head_t : Transform | 3 items\n",
       "     events : list | 0 items\n",
       "     highpass : float | 0.0 Hz\n",
       "     hpi_meas : list | 0 items\n",
       "     hpi_results : list | 0 items\n",
       "     lowpass : float | 128.0 Hz\n",
       "     meas_date : tuple | 2016-08-08 22:29:00 GMT\n",
       "     nchan : int | 27\n",
       "     proc_history : list | 0 items\n",
       "     projs : list | 0 items\n",
       "     sfreq : float | 256.0 Hz\n",
       "     acq_pars : NoneType\n",
       "     acq_stim : NoneType\n",
       "     ctf_head_t : NoneType\n",
       "     description : NoneType\n",
       "     dev_ctf_t : NoneType\n",
       "     device_info : NoneType\n",
       "     dig : NoneType\n",
       "     experimenter : NoneType\n",
       "     file_id : NoneType\n",
       "     gantry_angle : NoneType\n",
       "     helium_info : NoneType\n",
       "     hpi_subsystem : NoneType\n",
       "     kit_system_id : NoneType\n",
       "     line_freq : NoneType\n",
       "     meas_id : NoneType\n",
       "     proj_id : NoneType\n",
       "     proj_name : NoneType\n",
       "     subject_info : NoneType\n",
       "     utc_offset : NoneType\n",
       "     xplotter_layout : NoneType\n",
       " >,\n",
       " 'buffer_size_sec': 1.0,\n",
       " 'verbose': None,\n",
       " '_cals': array([1.04856e+08, 1.04856e+08, 1.04856e+08, 1.04856e+08, 1.04856e+08,\n",
       "        1.04856e+08, 1.04856e+08, 1.04856e+08, 1.04856e+08, 1.04856e+08,\n",
       "        1.04856e+08, 1.04856e+08, 3.14568e+08, 1.31070e+08, 4.00000e+06,\n",
       "        3.14568e+06, 1.31070e+08, 1.31070e+08, 1.57284e+08, 1.31070e+08,\n",
       "        1.31070e+08, 1.57284e+08, 4.09500e+04, 1.96560e+07, 2.55000e+05,\n",
       "        6.50250e+04, 6.50250e+04]),\n",
       " '_raw_extras': [{'events': [],\n",
       "   'units': [1e-06,\n",
       "    1e-06,\n",
       "    1e-06,\n",
       "    1e-06,\n",
       "    1e-06,\n",
       "    1e-06,\n",
       "    1e-06,\n",
       "    1e-06,\n",
       "    1e-06,\n",
       "    1e-06,\n",
       "    1e-06,\n",
       "    1e-06,\n",
       "    1e-06,\n",
       "    1,\n",
       "    1,\n",
       "    1,\n",
       "    1,\n",
       "    1,\n",
       "    1e-06,\n",
       "    1,\n",
       "    1,\n",
       "    1e-06,\n",
       "    1,\n",
       "    0.001,\n",
       "    1,\n",
       "    1,\n",
       "    1],\n",
       "   'ch_names': ['EEG A2-Cz',\n",
       "    'EEG C4-Cz',\n",
       "    'EEG A1-Cz',\n",
       "    'EEG Fpz-Cz',\n",
       "    'EMG chin+',\n",
       "    'EOG E2-Cz',\n",
       "    'EEG F4-Cz',\n",
       "    'EEG O2-Cz',\n",
       "    'EEG F3-Cz',\n",
       "    'EEG O1-Cz',\n",
       "    'EOG E1-Cz',\n",
       "    'EMG chin-',\n",
       "    'ECG',\n",
       "    'Resp oro-nasal',\n",
       "    'Sound',\n",
       "    'CPAP pressure',\n",
       "    'Resp nasal',\n",
       "    'Resp chest',\n",
       "    'EMG RAT',\n",
       "    'Sound snore',\n",
       "    'Resp abdomen',\n",
       "    'EMG LAT',\n",
       "    'Body position',\n",
       "    'Accu',\n",
       "    'Pleth',\n",
       "    'Pulse',\n",
       "    'SaO2'],\n",
       "   'data_offset': 7424,\n",
       "   'digital_max': array([32767., 32767., 32767., 32767., 32767., 32767., 32767., 32767.,\n",
       "          32767., 32767., 32767., 32767., 32767., 32767., 10000., 32767.,\n",
       "          32767., 32767., 32767., 32767., 32767., 32767.,  4095.,  4095.,\n",
       "            255.,   255.,   255.]),\n",
       "   'digital_min': array([-32768., -32768., -32768., -32768., -32768., -32768., -32768.,\n",
       "          -32768., -32768., -32768., -32768., -32768., -32768., -32768.,\n",
       "          -10000., -32768., -32768., -32768., -32768., -32768., -32768.,\n",
       "          -32768.,      0.,      0.,      0.,      0.,      0.]),\n",
       "   'highpass': array([], dtype=float64),\n",
       "   'sel': array([ 0,  1,  2,  3,  4,  5,  6,  7,  8,  9, 10, 11, 12, 13, 14, 15, 16,\n",
       "          17, 18, 19, 20, 21, 22, 23, 24, 25, 26]),\n",
       "   'lowpass': array([], dtype=float64),\n",
       "   'meas_date': (1470695340, 0),\n",
       "   'n_records': 27360,\n",
       "   'n_samps': array([256, 256, 256, 256, 256, 256, 256, 256, 256, 256, 256, 256, 256,\n",
       "           32, 256,  32, 256,  32, 256, 256,  32, 256,   4,   4, 128,   4,\n",
       "            4,  60]),\n",
       "   'nchan': 28,\n",
       "   'subject_info': {'id': 'SN1', 'name': ''},\n",
       "   'physical_max': array([ 800.,  800.,  800.,  800.,  800.,  800.,  800.,  800.,  800.,\n",
       "           800.,  800.,  800., 2400., 1000.,  100.,   24., 1000., 1000.,\n",
       "          1200., 1000., 1000., 1200.,   10., 4800., 1000.,  255.,  255.]),\n",
       "   'physical_min': array([ -800.,  -800.,  -800.,  -800.,  -800.,  -800.,  -800.,  -800.,\n",
       "           -800.,  -800.,  -800.,  -800., -2400., -1000.,  -100.,   -24.,\n",
       "          -1000., -1000., -1200., -1000., -1000., -1200.,     0.,     0.,\n",
       "              0.,     0.,     0.]),\n",
       "   'record_length': array([1., 1.]),\n",
       "   'subtype': 'edf',\n",
       "   'tal_idx': array([27], dtype=int64),\n",
       "   'dtype_byte': 2,\n",
       "   'dtype_np': numpy.int16,\n",
       "   'stim_channel': None,\n",
       "   'max_samp': 256,\n",
       "   'nsamples': 7004160}],\n",
       " '_read_comp_grade': None,\n",
       " '_comp': None,\n",
       " '_filenames': ['G:\\\\HMC22\\\\test\\\\edf\\\\SN1.edf'],\n",
       " 'orig_format': 'int',\n",
       " '_orig_units': {'EEG A2-Cz': 'µV',\n",
       "  'EEG C4-Cz': 'µV',\n",
       "  'EEG A1-Cz': 'µV',\n",
       "  'EEG Fpz-Cz': 'µV',\n",
       "  'EMG chin+': 'µV',\n",
       "  'EOG E2-Cz': 'µV',\n",
       "  'EEG F4-Cz': 'µV',\n",
       "  'EEG O2-Cz': 'µV',\n",
       "  'EEG F3-Cz': 'µV',\n",
       "  'EEG O1-Cz': 'µV',\n",
       "  'EOG E1-Cz': 'µV',\n",
       "  'EMG chin-': 'µV',\n",
       "  'ECG': 'µV',\n",
       "  'Resp oro-nasal': 'n/a',\n",
       "  'Sound': 'n/a',\n",
       "  'CPAP pressure': 'n/a',\n",
       "  'Resp nasal': 'n/a',\n",
       "  'Resp chest': 'n/a',\n",
       "  'EMG RAT': 'µV',\n",
       "  'Sound snore': 'n/a',\n",
       "  'Resp abdomen': 'n/a',\n",
       "  'EMG LAT': 'µV',\n",
       "  'Body position': 'n/a',\n",
       "  'Accu': 'mV',\n",
       "  'Pleth': 'n/a',\n",
       "  'Pulse': 'n/a',\n",
       "  'SaO2': 'n/a'},\n",
       " '_projectors': [],\n",
       " '_projector': None,\n",
       " '_dtype_': numpy.float64,\n",
       " '_annotations': <Annotations  |  0 segments , orig_time : 2016-08-08 22:29:00>,\n",
       " '_times': array([0.00000000e+00, 3.90625000e-03, 7.81250000e-03, ...,\n",
       "        2.73599883e+04, 2.73599922e+04, 2.73599961e+04]),\n",
       " '_data': array([[ 1.22072175e-08,  1.22072175e-08,  1.22072175e-08, ...,\n",
       "          5.73739223e-07, -1.33913176e-05, -1.77859159e-05],\n",
       "        [ 1.22072175e-08,  1.22072175e-08,  1.22072175e-08, ...,\n",
       "          1.10719463e-05,  8.92347601e-06,  9.19203479e-06],\n",
       "        [ 1.22072175e-08,  1.22072175e-08,  1.22072175e-08, ...,\n",
       "         -1.95925841e-05, -1.57595178e-05, -1.64675364e-05],\n",
       "        ...,\n",
       "        [ 0.00000000e+00,  0.00000000e+00,  0.00000000e+00, ...,\n",
       "          1.90019913e+02,  2.00000000e+02,  2.29821724e+02],\n",
       "        [ 0.00000000e+00,  0.00000000e+00,  0.00000000e+00, ...,\n",
       "          5.60000000e+01,  5.60000000e+01,  5.60000000e+01],\n",
       "        [ 0.00000000e+00,  0.00000000e+00,  0.00000000e+00, ...,\n",
       "          9.40040606e+01,  9.40018061e+01,  9.40004517e+01]]),\n",
       " 'preload': True,\n",
       " '_init_kwargs': {'input_fname': 'G:\\\\HMC22\\\\test\\\\edf\\\\SN1.edf',\n",
       "  'montage': 'deprecated',\n",
       "  'eog': None,\n",
       "  'misc': None,\n",
       "  'stim_channel': 'auto',\n",
       "  'exclude': (),\n",
       "  'preload': True,\n",
       "  'verbose': None}}"
      ]
     },
     "execution_count": 184,
     "metadata": {},
     "output_type": "execute_result"
    }
   ],
   "source": [
    "edf.__dict__"
   ]
  },
  {
   "cell_type": "code",
   "execution_count": 235,
   "metadata": {
    "scrolled": true
   },
   "outputs": [
    {
     "name": "stdout",
     "output_type": "stream",
     "text": [
      "0       SN1                                                                             Startdate X X X X X                                                             08.08.1622.29.00512     EDF+C                                       5       0       1   EDF Annotations                                                                                         0       1       -32768  32767                                                                                   8192                        \n"
     ]
    }
   ],
   "source": [
    "with open(\"G:\\\\HMC22\\\\test\\\\scorings\\\\SN1.edf\", \"r\") as f:\n",
    "    for row in f:\n",
    "#       prints header\n",
    "        print(row[:500])\n",
    "    \n",
    "#       removes header\n",
    "#       splitting the events\n",
    "        texts = row[500:].strip().rsplit(\"\\x14\")\n",
    "        \n",
    "#       cleaning the data\n",
    "        texts = [x.replace(\"\\x00\", \"\") for x in texts]\n",
    "        texts = [x.replace(\"+\", \"\") for x in texts]\n",
    "        \n",
    "#       Splits onset and duration\n",
    "        texts = [x.replace(\"\\x15\", \":\") for x in texts]\n",
    "        texts = [x.split(\":\") for x in texts]\n"
   ]
  },
  {
   "cell_type": "code",
   "execution_count": 241,
   "metadata": {},
   "outputs": [
    {
     "name": "stdout",
     "output_type": "stream",
     "text": [
      "This session lasted 7.6 hours \n",
      "\n",
      "Counter({'Limb movement@@EMG RAT': 454, 'Limb movement@@EMG LAT': 387, 'EEG arousal@@EEG Cz-O2': 45, 'EEG arousal@@EEG C4-A1': 36, 'Sleep stage N1': 35, 'Sleep stage N2': 29, 'Sleep stage W': 25, 'Desaturation@@SaO2': 19, 'Central apnea@@Resp nasal': 13, 'Sleep stage N3': 10, 'Hypopnea@@Resp nasal': 7, 'EEG arousal@@EEG Fpz-Cz': 1, 'Sleep stage R': 1, 'EEG arousal@@EOG E2-E1': 1})\n"
     ]
    }
   ],
   "source": [
    "total_length = edf._data.shape[1]\n",
    "sfreq = edf.info[\"sfreq\"]\n",
    "seconds_to_hour = 60*60\n",
    "\n",
    "print(\"This session lasted {} hours \\n\".format(total_length/sfreq/seconds_to_hour))\n",
    "\n",
    "hypnogram = np.zeros(total_length)\n",
    "limb_Movement = np.zeros(total_length)\n",
    "arousals = np.zeros(total_length)\n",
    "desaturation = np.zeros(total_length)\n",
    "central_Apnea = np.zeros(total_length)\n",
    "hypopnea = np.zeros(total_length)\n",
    "\n",
    "cntr = Counter()\n",
    "\n",
    "for i, x in enumerate(texts):\n",
    "    if i%2 == 0:\n",
    "        continue\n",
    "    else:\n",
    "        onset_duration = texts[i-1]\n",
    "        event_name = texts[i][0]\n",
    "\n",
    "        if \"Lights on\" in event_name:\n",
    "            continue\n",
    "        elif \"Lights off\" in event_name:\n",
    "            continue\n",
    "        elif event_name == \"\":\n",
    "            continue\n",
    "            \n",
    "        onset_duration = [float(x) for x in onset_duration]\n",
    "        \n",
    "        onset_index = int(onset_duration[0]*sfreq)\n",
    "        duration = int(onset_duration[1]*sfreq)\n",
    "        \n",
    "        if event_name == \"Sleep stage W\":\n",
    "            hypnogram[onset_index:onset_index+duration] = 1\n",
    "        elif event_name == \"Sleep stage R\":\n",
    "            hypnogram[onset_index:onset_index+duration] = 0      \n",
    "        elif event_name == \"Sleep stage N1\":\n",
    "            hypnogram[onset_index:onset_index+duration] = -1       \n",
    "        elif event_name == \"Sleep stage N2\":\n",
    "            hypnogram[onset_index:onset_index+duration] = -2      \n",
    "        elif event_name == \"Sleep stage N3\":\n",
    "            hypnogram[onset_index:onset_index+duration] = -3        \n",
    "        \n",
    "        elif \"EEG arousal\" in event_name:\n",
    "            arousals[onset_index:onset_index+duration] = 1     \n",
    "        elif \"Limb movement\" in event_name:\n",
    "            limb_Movement[onset_index:onset_index+duration] = 1 \n",
    "        elif \"Desaturation\" in event_name:\n",
    "            desaturation[onset_index:onset_index+duration] = 1 \n",
    "        elif \"Central apnea\" in event_name:\n",
    "            central_Apnea[onset_index:onset_index+duration] = 1 \n",
    "        elif \"Hypopnea\" in event_name:\n",
    "            hypopnea[onset_index:onset_index+duration] = 1 \n",
    "            \n",
    "        cntr[event_name] += 1\n",
    "        \n",
    "print(cntr)"
   ]
  },
  {
   "cell_type": "code",
   "execution_count": 242,
   "metadata": {},
   "outputs": [
    {
     "data": {
      "text/plain": [
       "<function matplotlib.pyplot.show(*args, **kw)>"
      ]
     },
     "execution_count": 242,
     "metadata": {},
     "output_type": "execute_result"
    },
    {
     "data": {
      "image/png": "[encoded data removed]",
      "text/plain": [
       "<Figure size 432x288 with 1 Axes>"
      ]
     },
     "metadata": {
      "needs_background": "light"
     },
     "output_type": "display_data"
    }
   ],
   "source": [
    "plt.plot(hypnogram)\n",
    "plt.show"
   ]
  },
  {
   "cell_type": "code",
   "execution_count": 243,
   "metadata": {},
   "outputs": [
    {
     "data": {
      "text/plain": [
       "<function matplotlib.pyplot.show(*args, **kw)>"
      ]
     },
     "execution_count": 243,
     "metadata": {},
     "output_type": "execute_result"
    },
    {
     "data": {
      "image/png": "[encoded data removed]",
      "text/plain": [
       "<Figure size 432x288 with 1 Axes>"
      ]
     },
     "metadata": {
      "needs_background": "light"
     },
     "output_type": "display_data"
    }
   ],
   "source": [
    "plt.plot(arousals)\n",
    "plt.show"
   ]
  },
  {
   "cell_type": "code",
   "execution_count": 244,
   "metadata": {},
   "outputs": [
    {
     "data": {
      "text/plain": [
       "<function matplotlib.pyplot.show(*args, **kw)>"
      ]
     },
     "execution_count": 244,
     "metadata": {},
     "output_type": "execute_result"
    },
    {
     "data": {
      "image/png": "[encoded data removed]",
      "text/plain": [
       "<Figure size 432x288 with 1 Axes>"
      ]
     },
     "metadata": {
      "needs_background": "light"
     },
     "output_type": "display_data"
    }
   ],
   "source": [
    "plt.plot(limb_Movement)\n",
    "plt.show"
   ]
  },
  {
   "cell_type": "code",
   "execution_count": null,
   "metadata": {},
   "outputs": [],
   "source": []
  }
 ],
 "metadata": {
  "kernelspec": {
   "display_name": "Python 3",
   "language": "python",
   "name": "python3"
  },
  "language_info": {
   "codemirror_mode": {
    "name": "ipython",
    "version": 3
   },
   "file_extension": ".py",
   "mimetype": "text/x-python",
   "name": "python",
   "nbconvert_exporter": "python",
   "pygments_lexer": "ipython3",
   "version": "3.7.5"
  }
 },
 "nbformat": 4,
 "nbformat_minor": 2
}
